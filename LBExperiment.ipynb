{
 "cells": [
  {
   "cell_type": "code",
   "execution_count": 31,
   "id": "211d5213-7241-4247-abe4-7e81198f68fb",
   "metadata": {},
   "outputs": [],
   "source": [
    "import numpy as np\n",
    "import torch\n",
    "\n",
    "class LatticeBoltzmannSimulator:\n",
    "    def __init__(self, grid, tau, ic=None, bc=None,inlet=None):\n",
    "        self.nx, self.ny,_ = grid.shape\n",
    "        self.tau = tau\n",
    "        self.grid = grid\n",
    "        self.ic = ic\n",
    "        self.bc = bc\n",
    "        self.inlet=inlet\n",
    "        # Initialize velocity vectors for D2Q9\n",
    "        self.e = torch.tensor([[0, 0], [1, 0], [0, 1], [-1, 0], [0, -1], \n",
    "                               [1, 1], [-1, 1], [-1, -1], [1, -1]], dtype=torch.float32)\n",
    "        self.w = torch.tensor([4/9] + [1/9]*4 + [1/36]*4, dtype=torch.float32)\n",
    "        self.initialize_grid()\n",
    "\n",
    "    def initialize_grid(self):\n",
    "        # Initialize f at equilibrium with a given macroscopic density rho and velocity u\n",
    "        rho = torch.ones((self.nx, self.ny), dtype=torch.float32)  # Example density\n",
    "        if self.ic==None:\n",
    "            print('no initial cond')\n",
    "            u = torch.zeros((self.nx, self.ny, 2), dtype=torch.float32)  # Example velocity field (u, v) for each point\n",
    "        else: \n",
    "            u=self.ic\n",
    "        self.f = self.equilibrium_distribution(rho, u)\n",
    "        \n",
    "\n",
    "    def equilibrium_distribution(self, rho, u):\n",
    "        # Compute the equilibrium distribution function\n",
    "        feq = torch.zeros((self.nx, self.ny, 9), dtype=torch.float32)\n",
    "        usqr = u.pow(2).sum(dim=2, keepdim=True)\n",
    "        eu = torch.einsum('ij,klj->kli', self.e, u)  # Notice the changed indices and order to match dimensions\n",
    "        # Compute feq for all directions using broadcasting\n",
    "        feq = rho.unsqueeze(-1) * self.w * (1 + 3*eu + 9/2*eu.pow(2) - 3/2*usqr)\n",
    "        return feq\n",
    "        \n",
    "\n",
    "    def collision_step(self):\n",
    "        omega = 1.0 / self.tau\n",
    "        rho, u = self.update_properties()\n",
    "        feq = self.equilibrium_distribution(rho, u)\n",
    "        self.f = (1 - omega) * self.f + omega * feq\n",
    "        \n",
    "        #print(np.linalg.norm(self.f-feq))\n",
    "\n",
    "    def streaming_step(self):\n",
    "        f_streamed = torch.zeros_like(self.f)\n",
    "        for i, (ex, ey) in enumerate(self.e):\n",
    "            f_streamed[:, :, i] = torch.roll(self.f[:, :, i], shifts=(int(ex), int(ey)), dims=(0, 1))\n",
    "        #print(np.linalg.norm(self.f-f_streamed))\n",
    "        self.f = f_streamed\n",
    "    def opposite(self, direction):\n",
    "        opposites = {0: 0, 1: 3, 2: 4, 3: 1, 4: 2, 5: 7, 6: 8, 7: 5, 8: 6}\n",
    "        return opposites[direction]\n",
    "    def apply_boundary_conditions(self):\n",
    "        # Bounce-back boundary condition for no-slip walls at top and bottom\n",
    "        for i in range(self.nx):\n",
    "            self.f[i, 0, [2, 5, 6]] = self.f[i, 1, [4, 7, 8]].clone()  # Reverse at top wall\n",
    "            self.f[i, self.ny - 1, [4, 7, 8]] = self.f[i, self.ny - 2, [2, 5, 6]].clone()  # Reverse at bottom wall\n",
    "    \n",
    "            # He-Zou boundary condition for inlet\n",
    "        rho_inlet = torch.sum(self.f[0, :, [0, 2, 4]], dim=1) + 2 * torch.sum(self.f[0, :, [3, 6, 7]], dim=1)\n",
    "        inlet_velocity = self.inlet.unsqueeze(0)  # Reshape to (1, ny, 2)\n",
    "    \n",
    "        for direction in [1, 5, 8]:  # Incoming directions for the left boundary\n",
    "            # Calculate equilibrium part for the direction\n",
    "            feq = self.equilibrium_distribution(rho_inlet.unsqueeze(-1), inlet_velocity)[:, 0, direction]\n",
    "            # Non-equilibrium part calculation (f - feq for opposite direction)\n",
    "            non_eq = self.f[0, :, self.opposite(direction)] - feq.unsqueeze(1)\n",
    "            # Reshape feq to match non_eq dimensions\n",
    "            feq_reshaped = feq.view(-1, 1)\n",
    "            # Setting the unknown distributions\n",
    "            self.f[0, :, direction] = feq_reshaped + non_eq\n",
    "\n",
    "\n",
    "        # Outflow zero Neumann condition\n",
    "        self.f[-1, :, :] = self.f[-2, :, :].clone()  # Zero-gradient condition at the outlet\n",
    "\n",
    "    def update_properties(self):\n",
    "        rho = torch.sum(self.f, dim=2)\n",
    "        u = torch.einsum('ijk,kl->ijl', self.f, self.e)\n",
    "        \n",
    "        # Normalize the velocity by density\n",
    "        u = u / rho.unsqueeze(2)\n",
    "        return rho, u\n",
    "\n",
    "    def run_simulation(self, num_iterations):\n",
    "        # Initialize a list to store the state at each iteration\n",
    "        saved_states = []\n",
    "    \n",
    "        for iteration in range(num_iterations):\n",
    "            self.collision_step()\n",
    "            self.streaming_step()\n",
    "            self.apply_boundary_conditions()\n",
    "            rho, u = self.update_properties()\n",
    "            #print(u.shape,rho.shape)\n",
    "            \n",
    "            # Save the current state (rho and velocity field u)\n",
    "            saved_states.append((rho.clone(), u.clone()))\n",
    "    \n",
    "            # Insert additional code for output, visualization, etc., here\n",
    "            \n",
    "            # For example, you might print out progress or save visualizations intermittently:\n",
    "            if iteration % 100 == 0:  # adjust the frequency to your preference\n",
    "                print(f\"Iteration {iteration}: rho and u fields saved.\")\n",
    "                # Visualization or file output code goes here\n",
    "        # Return the saved states\n",
    "        return saved_states\n",
    "\n",
    "\n"
   ]
  },
  {
   "cell_type": "code",
   "execution_count": 32,
   "id": "728aab37-a614-415a-bf8f-e02c037fc99d",
   "metadata": {},
   "outputs": [
    {
     "ename": "RuntimeError",
     "evalue": "expand(torch.FloatTensor{[50, 50]}, size=[50]): the number of sizes provided (1) must be greater or equal to the number of dimensions in the tensor (2)",
     "output_type": "error",
     "traceback": [
      "\u001b[0;31m---------------------------------------------------------------------------\u001b[0m",
      "\u001b[0;31mRuntimeError\u001b[0m                              Traceback (most recent call last)",
      "Cell \u001b[0;32mIn[32], line 19\u001b[0m\n\u001b[1;32m     17\u001b[0m simulator \u001b[38;5;241m=\u001b[39m LatticeBoltzmannSimulator(grid\u001b[38;5;241m=\u001b[39mtorch\u001b[38;5;241m.\u001b[39mzeros((nx, ny, \u001b[38;5;241m9\u001b[39m)), tau\u001b[38;5;241m=\u001b[39mtau, ic\u001b[38;5;241m=\u001b[39mic,inlet\u001b[38;5;241m=\u001b[39minlet_velocity)\n\u001b[1;32m     18\u001b[0m \u001b[38;5;66;03m# Run the simulation\u001b[39;00m\n\u001b[0;32m---> 19\u001b[0m saved_states \u001b[38;5;241m=\u001b[39m \u001b[43msimulator\u001b[49m\u001b[38;5;241;43m.\u001b[39;49m\u001b[43mrun_simulation\u001b[49m\u001b[43m(\u001b[49m\u001b[43mnum_iterations\u001b[49m\u001b[38;5;241;43m=\u001b[39;49m\u001b[38;5;241;43m1000\u001b[39;49m\u001b[43m)\u001b[49m\n",
      "Cell \u001b[0;32mIn[31], line 95\u001b[0m, in \u001b[0;36mLatticeBoltzmannSimulator.run_simulation\u001b[0;34m(self, num_iterations)\u001b[0m\n\u001b[1;32m     93\u001b[0m \u001b[38;5;28mself\u001b[39m\u001b[38;5;241m.\u001b[39mcollision_step()\n\u001b[1;32m     94\u001b[0m \u001b[38;5;28mself\u001b[39m\u001b[38;5;241m.\u001b[39mstreaming_step()\n\u001b[0;32m---> 95\u001b[0m \u001b[38;5;28;43mself\u001b[39;49m\u001b[38;5;241;43m.\u001b[39;49m\u001b[43mapply_boundary_conditions\u001b[49m\u001b[43m(\u001b[49m\u001b[43m)\u001b[49m\n\u001b[1;32m     96\u001b[0m rho, u \u001b[38;5;241m=\u001b[39m \u001b[38;5;28mself\u001b[39m\u001b[38;5;241m.\u001b[39mupdate_properties()\n\u001b[1;32m     97\u001b[0m \u001b[38;5;66;03m#print(u.shape,rho.shape)\u001b[39;00m\n\u001b[1;32m     98\u001b[0m \n\u001b[1;32m     99\u001b[0m \u001b[38;5;66;03m# Save the current state (rho and velocity field u)\u001b[39;00m\n",
      "Cell \u001b[0;32mIn[31], line 74\u001b[0m, in \u001b[0;36mLatticeBoltzmannSimulator.apply_boundary_conditions\u001b[0;34m(self)\u001b[0m\n\u001b[1;32m     72\u001b[0m     feq_reshaped \u001b[38;5;241m=\u001b[39m feq\u001b[38;5;241m.\u001b[39mview(\u001b[38;5;241m-\u001b[39m\u001b[38;5;241m1\u001b[39m, \u001b[38;5;241m1\u001b[39m)\n\u001b[1;32m     73\u001b[0m     \u001b[38;5;66;03m# Setting the unknown distributions\u001b[39;00m\n\u001b[0;32m---> 74\u001b[0m     \u001b[38;5;28;43mself\u001b[39;49m\u001b[38;5;241;43m.\u001b[39;49m\u001b[43mf\u001b[49m\u001b[43m[\u001b[49m\u001b[38;5;241;43m0\u001b[39;49m\u001b[43m,\u001b[49m\u001b[43m \u001b[49m\u001b[43m:\u001b[49m\u001b[43m,\u001b[49m\u001b[43m \u001b[49m\u001b[43mdirection\u001b[49m\u001b[43m]\u001b[49m \u001b[38;5;241m=\u001b[39m feq_reshaped \u001b[38;5;241m+\u001b[39m non_eq\n\u001b[1;32m     77\u001b[0m \u001b[38;5;66;03m# Outflow zero Neumann condition\u001b[39;00m\n\u001b[1;32m     78\u001b[0m \u001b[38;5;28mself\u001b[39m\u001b[38;5;241m.\u001b[39mf[\u001b[38;5;241m-\u001b[39m\u001b[38;5;241m1\u001b[39m, :, :] \u001b[38;5;241m=\u001b[39m \u001b[38;5;28mself\u001b[39m\u001b[38;5;241m.\u001b[39mf[\u001b[38;5;241m-\u001b[39m\u001b[38;5;241m2\u001b[39m, :, :]\u001b[38;5;241m.\u001b[39mclone()\n",
      "\u001b[0;31mRuntimeError\u001b[0m: expand(torch.FloatTensor{[50, 50]}, size=[50]): the number of sizes provided (1) must be greater or equal to the number of dimensions in the tensor (2)"
     ]
    }
   ],
   "source": [
    "# Initialize your grid, for example, with a uniform flow in the x-direction\n",
    "#the imshow is going to plot the pipe vertical, just because its imshow\n",
    "u0 = 0.1          # Example initial flow velocity in the axial direction\n",
    "rho0 = 1.0        # Example initial density\n",
    "nx=100\n",
    "ny=50\n",
    "tau=0.6\n",
    "# Create initial condition (velocity) tensor\n",
    "ic = torch.zeros((nx, ny, 2), dtype=torch.float32)  # Placeholder for initial condition (velocity)\n",
    "y=torch.linspace(0,1,ny)\n",
    "u_avg=1\n",
    "D=1\n",
    "par=1.5*u_avg-1.5*u_avg*(y.mean()-y)**2 / D**2\n",
    "inlet_velocity = torch.zeros((ny, 2), dtype=torch.float32)\n",
    "inlet_velocity[:,0]=par\n",
    "# Instantiate the simulator\n",
    "simulator = LatticeBoltzmannSimulator(grid=torch.zeros((nx, ny, 9)), tau=tau, ic=ic,inlet=inlet_velocity)\n",
    "# Run the simulation\n",
    "saved_states = simulator.run_simulation(num_iterations=1000)"
   ]
  },
  {
   "cell_type": "code",
   "execution_count": null,
   "id": "99f5485f-0e0d-48b5-9d79-3ac42fbf8db1",
   "metadata": {
    "scrolled": true
   },
   "outputs": [],
   "source": []
  },
  {
   "cell_type": "code",
   "execution_count": 15,
   "id": "c54a63ed-fa6f-4597-b983-93cdb804b448",
   "metadata": {},
   "outputs": [
    {
     "name": "stdout",
     "output_type": "stream",
     "text": [
      "tensor([[[nan, nan],\n",
      "         [nan, nan],\n",
      "         [nan, nan],\n",
      "         ...,\n",
      "         [nan, nan],\n",
      "         [nan, nan],\n",
      "         [nan, nan]],\n",
      "\n",
      "        [[nan, nan],\n",
      "         [nan, nan],\n",
      "         [nan, nan],\n",
      "         ...,\n",
      "         [nan, nan],\n",
      "         [nan, nan],\n",
      "         [nan, nan]],\n",
      "\n",
      "        [[nan, nan],\n",
      "         [nan, nan],\n",
      "         [nan, nan],\n",
      "         ...,\n",
      "         [nan, nan],\n",
      "         [nan, nan],\n",
      "         [nan, nan]],\n",
      "\n",
      "        ...,\n",
      "\n",
      "        [[nan, nan],\n",
      "         [nan, nan],\n",
      "         [nan, nan],\n",
      "         ...,\n",
      "         [nan, nan],\n",
      "         [nan, nan],\n",
      "         [nan, nan]],\n",
      "\n",
      "        [[nan, nan],\n",
      "         [nan, nan],\n",
      "         [nan, nan],\n",
      "         ...,\n",
      "         [nan, nan],\n",
      "         [nan, nan],\n",
      "         [nan, nan]],\n",
      "\n",
      "        [[nan, nan],\n",
      "         [nan, nan],\n",
      "         [nan, nan],\n",
      "         ...,\n",
      "         [nan, nan],\n",
      "         [nan, nan],\n",
      "         [nan, nan]]])\n"
     ]
    },
    {
     "data": {
      "image/png": "[encoded data removed]",
      "text/plain": [
       "<Figure size 640x480 with 2 Axes>"
      ]
     },
     "metadata": {},
     "output_type": "display_data"
    }
   ],
   "source": [
    "# Initialize arrays to store velocity components and density for all time steps\n",
    "import matplotlib.pyplot as plt\n",
    "uall = np.zeros((len(saved_states), nx, ny, 2))  # For both velocity components\n",
    "rhoall = np.zeros((len(saved_states), nx, ny))  # For density\n",
    "%matplotlib inline\n",
    "# Loop to fill in the uall and rhoall arrays\n",
    "for i, state in enumerate(saved_states):\n",
    "    rho, u = state\n",
    "    rhoall[i, :, :] = rho\n",
    "    uall[i, :, :, :] = u\n",
    "print(u)\n",
    "# Calculate the difference in the velocity field between the first and the last state\n",
    "#print(np.linalg.norm(uall[-1, :, :, :] - uall[0, :, :, :]))\n",
    "#print(u)\n",
    "# Visualize the x-component of the velocity field of the last state\n",
    "plt.imshow(uall[-1, :, :,0])\n",
    "plt.colorbar()\n",
    "plt.title(\"X Component of Velocity Field at Last Time Step\")\n",
    "plt.show()"
   ]
  },
  {
   "cell_type": "code",
   "execution_count": null,
   "id": "9e9c0af9-68a8-42f0-9823-e0693d6f64dc",
   "metadata": {},
   "outputs": [],
   "source": [
    "uparabolic=uall[-1,50,:,0]\n",
    "print(uparabolic)\n",
    "plt.plot(uparabolic)"
   ]
  },
  {
   "cell_type": "code",
   "execution_count": 47,
   "id": "b625d1cc-58a5-48ff-8f5a-c38020577a40",
   "metadata": {},
   "outputs": [
    {
     "name": "stdout",
     "output_type": "stream",
     "text": [
      "[[0.99956197 0.99956203 0.9995622  ... 0.99956238 0.99956244 0.99956226]\n",
      " [0.99956197 0.99956203 0.9995622  ... 0.99956238 0.99956244 0.99956226]\n",
      " [0.99956197 0.99956203 0.9995622  ... 0.99956238 0.99956244 0.99956226]\n",
      " ...\n",
      " [0.99956197 0.99956203 0.9995622  ... 0.99956238 0.99956244 0.99956226]\n",
      " [0.99956197 0.99956203 0.9995622  ... 0.99956238 0.99956244 0.99956226]\n",
      " [0.99956197 0.99956203 0.9995622  ... 0.99956238 0.99956244 0.99956226]]\n"
     ]
    },
    {
     "data": {
      "text/plain": [
       "<matplotlib.colorbar.Colorbar at 0x2ae4bbeff550>"
      ]
     },
     "execution_count": 47,
     "metadata": {},
     "output_type": "execute_result"
    },
    {
     "data": {
      "image/png": "[encoded data removed]",
      "text/plain": [
       "<Figure size 640x480 with 2 Axes>"
      ]
     },
     "metadata": {},
     "output_type": "display_data"
    }
   ],
   "source": []
  },
  {
   "cell_type": "code",
   "execution_count": null,
   "id": "2e2efbc7-b8fd-42f1-8aca-deb35cdd840f",
   "metadata": {},
   "outputs": [],
   "source": []
  },
  {
   "cell_type": "code",
   "execution_count": null,
   "id": "d1a7540a-ed56-46cf-82b2-4e402fe86285",
   "metadata": {},
   "outputs": [],
   "source": []
  }
 ],
 "metadata": {
  "kernelspec": {
   "display_name": "Python 3 (ipykernel)",
   "language": "python",
   "name": "python3"
  },
  "language_info": {
   "codemirror_mode": {
    "name": "ipython",
    "version": 3
   },
   "file_extension": ".py",
   "mimetype": "text/x-python",
   "name": "python",
   "nbconvert_exporter": "python",
   "pygments_lexer": "ipython3",
   "version": "3.8.1"
  }
 },
 "nbformat": 4,
 "nbformat_minor": 5
}
